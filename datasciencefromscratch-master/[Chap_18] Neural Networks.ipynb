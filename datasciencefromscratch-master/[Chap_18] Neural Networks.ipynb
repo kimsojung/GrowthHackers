{
 "cells": [
  {
   "cell_type": "code",
   "execution_count": 1,
   "metadata": {
    "collapsed": true
   },
   "outputs": [],
   "source": [
    "import numpy as np\n",
    "import math\n",
    "import random\n",
    "import matplotlib\n",
    "import matplotlib.pyplot as plt"
   ]
  },
  {
   "cell_type": "code",
   "execution_count": 2,
   "metadata": {
    "collapsed": true
   },
   "outputs": [],
   "source": [
    "def setp_function(x):\n",
    "    return 1 if x >= 0 else 0\n",
    "\n",
    "def perceptron_output(weights, bias, x):\n",
    "    calculation = np.dot(weights, x) + bias\n",
    "    return step_function(calculation)\n",
    "\n",
    "def sigmoid(t):\n",
    "    return 1 / (1 + math.exp(-t))\n",
    "\n",
    "def neuron_output(weights, inputs):\n",
    "    return sigmoid(np.dot(weights, inputs))\n",
    "\n",
    "def feed_forward(neural_network, input_vector):\n",
    "    outputs = []\n",
    "    for layer in neural_network:\n",
    "        input_with_bias = input_vector + [1]\n",
    "        output = [neuron_output(neuron, input_with_bias) for neuron in layer]\n",
    "        outputs.append(output)\n",
    "        input_vector = output\n",
    "    return outputs"
   ]
  },
  {
   "cell_type": "code",
   "execution_count": 3,
   "metadata": {
    "collapsed": true
   },
   "outputs": [],
   "source": [
    "def backpropagate(network, input_vector, targets):\n",
    "    hidden_outputs, outputs = feed_forward(network, input_vector)\n",
    "    output_deltas = [output * (1-output) * (output-target)\n",
    "                    for output, target in zip(outputs, targets)]\n",
    "    for i, output_neuron in enumerate(network[-1]):\n",
    "        for j, hidden_output in enumerate(hidden_outputs + [1]):\n",
    "            output_neuron[j] -= output_deltas[i] * hidden_output\n",
    "    hidden_deltas = [hidden_output * (1-hidden_output) * np.dot(output_deltas, [n[i] for n in output_layer])\n",
    "                    for i, hidden_output in enumerate(hidden_outputs)]\n",
    "    for i, hidden_neuron in enumerate(network[0]):\n",
    "        for j, input in enumerate(input_vector + [1]):\n",
    "            hidden_neuron[j] -= hidden_deltas[i] * input"
   ]
  },
  {
   "cell_type": "code",
   "execution_count": 4,
   "metadata": {
    "collapsed": true
   },
   "outputs": [],
   "source": [
    "inputs = [[1,1,1,1,1,\n",
    "          1,0,0,0,1,\n",
    "          1,0,0,0,1,\n",
    "          1,0,0,0,1,\n",
    "          1,1,1,1,1],\n",
    "         [0,0,1,0,0,\n",
    "         0,0,1,0,0,\n",
    "         0,0,1,0,0,\n",
    "         0,0,1,0,0,\n",
    "         0,0,1,0,0],\n",
    "         [1,1,1,1,1,\n",
    "         0,0,0,0,1,\n",
    "         1,1,1,1,1,\n",
    "         1,0,0,0,0,\n",
    "         1,1,1,1,1],\n",
    "         [1,1,1,1,1,\n",
    "         0,0,0,0,1,\n",
    "         1,1,1,1,1,\n",
    "         0,0,0,0,1,\n",
    "         1,1,1,1,1],\n",
    "         [1,0,0,0,1,\n",
    "         1,0,0,0,1,\n",
    "         1,1,1,1,1,\n",
    "         0,0,0,0,1,\n",
    "         0,0,0,0,1],\n",
    "         [1,1,1,1,1,\n",
    "         1,0,0,0,0,\n",
    "         1,1,1,1,1,\n",
    "         0,0,0,0,1,\n",
    "         1,1,1,1,1],\n",
    "         [1,1,1,1,1,\n",
    "         1,0,0,0,0,\n",
    "         1,1,1,1,1,\n",
    "         1,0,0,0,1,\n",
    "         1,1,1,1,1],\n",
    "         [1,1,1,1,1,\n",
    "         0,0,0,0,1,\n",
    "         0,0,0,0,1,\n",
    "         0,0,0,0,1,\n",
    "         0,0,0,0,1],\n",
    "         [1,1,1,1,1,\n",
    "         1,0,0,0,1,\n",
    "         1,1,1,1,1,\n",
    "         1,0,0,0,1,\n",
    "         1,1,1,1,1],\n",
    "         [1,1,1,1,1,\n",
    "         1,0,0,0,1,\n",
    "         1,1,1,1,1,\n",
    "         0,0,0,0,1,\n",
    "         1,1,1,1,1]]\n",
    "targets = [[1 if i==j else 0 for i in range(10)]\n",
    "          for j in range(10)]\n",
    "\n",
    "random.seed(0)\n",
    "input_size = 25\n",
    "num_hidden = 5\n",
    "output_size = 10\n",
    "\n",
    "hidden_layer = [[random.random() for _ in range(input_size + 1)]\n",
    "               for _ in range(num_hidden)]\n",
    "output_layer  = [[random.random() for _ in range(num_hidden + 1)]\n",
    "                for _ in range(output_size)]\n",
    "network = [hidden_layer, output_layer]"
   ]
  },
  {
   "cell_type": "code",
   "execution_count": 5,
   "metadata": {
    "collapsed": true
   },
   "outputs": [],
   "source": [
    "for _ in range(10000):\n",
    "    for input_vector, target_vector in zip(inputs, targets):\n",
    "        backpropagate(network, input_vector, target_vector)"
   ]
  },
  {
   "cell_type": "code",
   "execution_count": 6,
   "metadata": {},
   "outputs": [
    {
     "data": {
      "text/plain": [
       "[6.062444962535723e-09,\n",
       " 0.020139666358430584,\n",
       " 2.1382110766694345e-08,\n",
       " 0.9798798233153204,\n",
       " 1.4041266419974099e-06,\n",
       " 8.236749588906475e-07,\n",
       " 6.790692897125756e-11,\n",
       " 0.028383372165843405,\n",
       " 4.959743497388619e-09,\n",
       " 0.04697092794687027]"
      ]
     },
     "execution_count": 6,
     "metadata": {},
     "output_type": "execute_result"
    }
   ],
   "source": [
    "def predict(input):\n",
    "    return feed_forward(network, input)[-1]\n",
    "my_three = [0,1,1,1,0,\n",
    "           0,0,0,1,1,\n",
    "           0,0,1,1,0,\n",
    "           0,0,0,1,1,\n",
    "           0,1,1,1,0]\n",
    "my_seven = [1,1,1,1,1,\n",
    "           0,0,0,0,1,\n",
    "           0,0,0,1,0,\n",
    "           0,0,0,1,0,\n",
    "           0,0,0,1,0]\n",
    "#predict(my_three)\n",
    "predict(my_seven)"
   ]
  },
  {
   "cell_type": "code",
   "execution_count": 7,
   "metadata": {},
   "outputs": [
    {
     "data": {
      "image/png": "[encoded data removed]",
      "text/plain": [
       "<matplotlib.figure.Figure at 0x7bc2b70>"
      ]
     },
     "metadata": {},
     "output_type": "display_data"
    },
    {
     "data": {
      "image/png": "[encoded data removed]",
      "text/plain": [
       "<matplotlib.figure.Figure at 0x7dc3c18>"
      ]
     },
     "metadata": {},
     "output_type": "display_data"
    },
    {
     "data": {
      "image/png": "[encoded data removed]",
      "text/plain": [
       "<matplotlib.figure.Figure at 0x7dc3a90>"
      ]
     },
     "metadata": {},
     "output_type": "display_data"
    },
    {
     "data": {
      "image/png": "[encoded data removed]",
      "text/plain": [
       "<matplotlib.figure.Figure at 0x81ecd68>"
      ]
     },
     "metadata": {},
     "output_type": "display_data"
    },
    {
     "data": {
      "image/png": "[encoded data removed]",
      "text/plain": [
       "<matplotlib.figure.Figure at 0x80e09e8>"
      ]
     },
     "metadata": {},
     "output_type": "display_data"
    }
   ],
   "source": [
    "def neuron_plot(i):\n",
    "    weights = network[0][i]\n",
    "    abs_weights = list(map(abs, weights))\n",
    "    grid = [abs_weights[row:(row+5)]\n",
    "           for row in range(0,25,5)]\n",
    "    ax = plt.gca()\n",
    "    ax.imshow(grid, cmap=matplotlib.cm.binary, interpolation='none')\n",
    "\n",
    "    def patch(x, y, hatch, color):\n",
    "        return matplotlib.patches.Rectangle((x-0.5, y-0.5), 1, 1, hatch=hatch, fill=False, color=color)\n",
    "\n",
    "    for i in range(5):\n",
    "        for j in range(5):\n",
    "            if weights[5*i + j] < 0:\n",
    "                ax.add_patch(patch(j, i, '/', \"white\"))\n",
    "                ax.add_patch(patch(j, i, '\\\\', \"black\"))\n",
    "    plt.show()\n",
    "\n",
    "neuron_plot(0)\n",
    "neuron_plot(1)\n",
    "neuron_plot(2)\n",
    "neuron_plot(3)\n",
    "neuron_plot(4)"
   ]
  },
  {
   "cell_type": "code",
   "execution_count": 8,
   "metadata": {},
   "outputs": [
    {
     "name": "stdout",
     "output_type": "stream",
     "text": [
      "1 2\n"
     ]
    },
    {
     "data": {
      "text/plain": [
       "[[0.04514674933197369,\n",
       "  0.9999786803418749,\n",
       "  0.999999999030672,\n",
       "  0.9999922372028395,\n",
       "  3.603628359983815e-07],\n",
       " [7.898905429710058e-09,\n",
       "  0.006665177772043016,\n",
       "  2.0003358244156753e-08,\n",
       "  0.9670805752908446,\n",
       "  9.057484917804477e-07,\n",
       "  1.5388836660126693e-06,\n",
       "  1.1968592786041444e-10,\n",
       "  0.016174062391313422,\n",
       "  1.3020149516525991e-08,\n",
       "  0.06791891584584524]]"
      ]
     },
     "execution_count": 8,
     "metadata": {},
     "output_type": "execute_result"
    }
   ],
   "source": [
    "x,y = 1,2\n",
    "print(x, y)\n",
    "#a, b = [[1],[2],[3],[2,3]]\n",
    "#print(a, b)\n",
    "feed_forward(network, my_three)"
   ]
  }
 ],
 "metadata": {
  "kernelspec": {
   "display_name": "Python 3",
   "language": "python",
   "name": "python3"
  },
  "language_info": {
   "codemirror_mode": {
    "name": "ipython",
    "version": 3
   },
   "file_extension": ".py",
   "mimetype": "text/x-python",
   "name": "python",
   "nbconvert_exporter": "python",
   "pygments_lexer": "ipython3",
   "version": "3.6.1"
  }
 },
 "nbformat": 4,
 "nbformat_minor": 2
}
