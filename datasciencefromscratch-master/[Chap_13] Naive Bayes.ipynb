{
 "cells": [
  {
   "cell_type": "code",
   "execution_count": 1,
   "metadata": {
    "collapsed": true
   },
   "outputs": [],
   "source": [
    "import glob, re, math, random\n",
    "from collections import Counter, defaultdict\n",
    "\n",
    "def get_subject_data(path):\n",
    "    data = []\n",
    "    for fn in glob.glob(path):\n",
    "        is_spam = \"ham\" not in fn\n",
    "        with open(fn, 'r') as file:\n",
    "            try:\n",
    "                lines = file.readlines()\n",
    "            except UnicodeDecodeError as e: \n",
    "                continue\n",
    "            else:\n",
    "                for line in lines:\n",
    "                    if line.startswith(\"Subject:\"):\n",
    "                        subject = re.sub(r\"^Subject:\", \"\", line).strip()\n",
    "                        data.append((subject, is_spam))\n",
    "    return data\n",
    "\n",
    "def split_data(data, prob):\n",
    "    results = [], []\n",
    "    for row in data:\n",
    "        results[0 if random.random() < prob else 1].append(row)\n",
    "    return results"
   ]
  },
  {
   "cell_type": "code",
   "execution_count": 2,
   "metadata": {
    "collapsed": true
   },
   "outputs": [],
   "source": [
    "def tokenize(message):\n",
    "    message = message.lower()\n",
    "    all_words = re.findall(\"[a-z0-9']+\", message)\n",
    "    return set(all_words)\n",
    "\n",
    "def count_words(training_set):\n",
    "    counts = defaultdict(lambda: [0,0])\n",
    "    for message, is_spam in training_set:\n",
    "        for word in tokenize(message):\n",
    "            counts[word][0 if is_spam else 1] += 1\n",
    "    return counts\n",
    "\n",
    "def div_mail(training_set):\n",
    "    num_spams = len([is_spam for message, is_spam in training_set if is_spam])\n",
    "    num_non_spams = len(training_set) - num_spams\n",
    "    return num_spams, num_non_spams\n",
    "\n",
    "def word_probabilities1(counts, total_spams, total_non_spams): #수정 전\n",
    "    return [(w, spam/total_spams, non_spam/total_non_spams) \n",
    "            for w, (spam, non_spam) in counts.items()]\n",
    "\n",
    "def word_probabilities(counts, total_spams, total_non_spams, k=0.5): #수정 후\n",
    "    return [(w, (spam+k)/(total_spams+2*k), (non_spam+k)/(total_non_spams+2*k))\n",
    "            for w, (spam, non_spam) in counts.items()]"
   ]
  },
  {
   "cell_type": "code",
   "execution_count": 3,
   "metadata": {
    "collapsed": true
   },
   "outputs": [],
   "source": [
    "#Testing\n",
    "def spam_probability1(word_probs, message): #수정 전\n",
    "    message_words = tokenize(message)\n",
    "    total_prob_if_spam = total_prob_if_not_spam = 1.0\n",
    "    for word, prob_if_spam, prob_if_not_spam in word_probs:\n",
    "        if word in message_words:\n",
    "            total_prob_if_spam = total_prob_if_spam * prob_if_spam\n",
    "            total_prob_if_not_spam = total_prob_if_not_spam * prob_if_not_spam\n",
    "        else:\n",
    "            total_prob_if_spam = total_prob_if_spam * (1.0 - prob_if_spam)\n",
    "            total_prob_if_not_spam = total_prob_if_not_spam * (1.0 - prob_if_not_spam)\n",
    "    prob_if_spam = total_prob_if_spam\n",
    "    prob_if_not_spam = total_prob_if_not_spam\n",
    "    return prob_if_spam / (prob_if_spam + prob_if_not_spam)\n",
    "\n",
    "def spam_probability(word_probs, message): #수정 후\n",
    "    message_words = tokenize(message)\n",
    "    log_prob_if_spam = log_prob_if_not_spam = 0.0\n",
    "    for word, prob_if_spam, prob_if_not_spam in word_probs:\n",
    "        if word in message_words:\n",
    "            log_prob_if_spam += math.log(prob_if_spam)\n",
    "            log_prob_if_not_spam += math.log(prob_if_not_spam)\n",
    "        else:\n",
    "            log_prob_if_spam += math.log(1.0 - prob_if_spam)\n",
    "            log_prob_if_not_spam += math.log(1.0 - prob_if_not_spam)\n",
    "    prob_if_spam = math.exp(log_prob_if_spam)\n",
    "    prob_if_not_spam = math.exp(log_prob_if_not_spam)\n",
    "    return prob_if_spam / (prob_if_spam + prob_if_not_spam)"
   ]
  },
  {
   "cell_type": "code",
   "execution_count": 4,
   "metadata": {
    "collapsed": true
   },
   "outputs": [],
   "source": [
    "class NaiveBayesClassifier:\n",
    "\n",
    "    def __init__(self, path, k=0.5):\n",
    "        self.k = k\n",
    "        self.word_probs = []\n",
    "        self.data = get_subject_data(path)\n",
    "        random.seed(0)\n",
    "        self.train_data, self.test_data = split_data(self.data, 0.75)\n",
    "    \n",
    "    def train(self, train_data):\n",
    "        num_spams, num_non_spams = div_mail(train_data)\n",
    "        word_counts = count_words(train_data)\n",
    "        self.word_probs = word_probabilities(word_counts, num_spams, num_non_spams, self.k)\n",
    "    \n",
    "    def classify(self, message):\n",
    "        return spam_probability(self.word_probs, message)"
   ]
  },
  {
   "cell_type": "code",
   "execution_count": 8,
   "metadata": {
    "scrolled": false
   },
   "outputs": [],
   "source": [
    "a = NaiveBayesClassifier(\"C:\\내꺼\\Growth Hackers\\세션\\[session 10] Naive Bayes\\spams\\*\\*\")\n",
    "a.train(a.train_data)\n",
    "classified = [(subject, is_spam, a.classify(subject))\n",
    "             for subject, is_spam in a.test_data]\n",
    "#print(classified)"
   ]
  },
  {
   "cell_type": "code",
   "execution_count": 9,
   "metadata": {},
   "outputs": [],
   "source": [
    "counts = Counter((is_spam, spam_probability > 0.5) \n",
    "                 for _, is_spam, spam_probability in classified)\n",
    "#print(counts)"
   ]
  }
 ],
 "metadata": {
  "kernelspec": {
   "display_name": "Python 3",
   "language": "python",
   "name": "python3"
  },
  "language_info": {
   "codemirror_mode": {
    "name": "ipython",
    "version": 3
   },
   "file_extension": ".py",
   "mimetype": "text/x-python",
   "name": "python",
   "nbconvert_exporter": "python",
   "pygments_lexer": "ipython3",
   "version": "3.6.1"
  }
 },
 "nbformat": 4,
 "nbformat_minor": 2
}
